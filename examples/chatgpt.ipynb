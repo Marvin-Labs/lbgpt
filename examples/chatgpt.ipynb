{
 "cells": [
  {
   "cell_type": "code",
   "execution_count": 1,
   "outputs": [],
   "source": [
    "import os\n",
    "from lbgpt import ChatGPT"
   ],
   "metadata": {
    "collapsed": false,
    "ExecuteTime": {
     "end_time": "2023-12-20T16:37:18.625422725Z",
     "start_time": "2023-12-20T16:37:18.535777710Z"
    }
   },
   "id": "f4683f9516c11862"
  },
  {
   "cell_type": "code",
   "execution_count": 3,
   "outputs": [
    {
     "name": "stderr",
     "output_type": "stream",
     "text": [
      "100%|██████████| 5/5 [00:01<00:00,  4.82it/s]\n"
     ]
    }
   ],
   "source": [
    "messages = [\n",
    "    {\"role\": \"user\", \"content\": \"please respond with pong\"},\n",
    "]\n",
    "single_request_content = dict(\n",
    "    messages=messages,\n",
    "    model=\"gpt-3.5-turbo-0613\",\n",
    "    temperature=0,\n",
    "    max_tokens=50,\n",
    "    top_p=1,\n",
    "    frequency_penalty=0,\n",
    "    presence_penalty=0,\n",
    "    request_timeout=10,\n",
    ")\n",
    "\n",
    "lb = ChatGPT(\n",
    "    api_key=os.environ[\"OPEN_AI_API_KEY\"],\n",
    "    stop_after_attempts=5,\n",
    "    stop_on_exception=True,\n",
    ")\n",
    "\n",
    "\n",
    "res = await lb.chat_completion_list([single_request_content] * 5, show_progress=True)\n"
   ],
   "metadata": {
    "collapsed": false,
    "ExecuteTime": {
     "end_time": "2023-12-20T16:38:06.050841376Z",
     "start_time": "2023-12-20T16:38:04.979417752Z"
    }
   },
   "id": "initial_id"
  }
 ],
 "metadata": {
  "kernelspec": {
   "display_name": "Python 3",
   "language": "python",
   "name": "python3"
  },
  "language_info": {
   "codemirror_mode": {
    "name": "ipython",
    "version": 2
   },
   "file_extension": ".py",
   "mimetype": "text/x-python",
   "name": "python",
   "nbconvert_exporter": "python",
   "pygments_lexer": "ipython2",
   "version": "2.7.6"
  }
 },
 "nbformat": 4,
 "nbformat_minor": 5
}
